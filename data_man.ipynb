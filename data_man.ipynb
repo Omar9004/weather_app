{
 "cells": [
  {
   "cell_type": "code",
   "execution_count": 1,
   "id": "db128316",
   "metadata": {},
   "outputs": [],
   "source": [
    "import pandas as pd"
   ]
  },
  {
   "cell_type": "code",
   "execution_count": 2,
   "id": "eb0e0f26",
   "metadata": {},
   "outputs": [
    {
     "name": "stdout",
     "output_type": "stream",
     "text": [
      "<class 'pandas.core.frame.DataFrame'>\n",
      "RangeIndex: 48059 entries, 0 to 48058\n",
      "Data columns (total 11 columns):\n",
      " #   Column      Non-Null Count  Dtype  \n",
      "---  ------      --------------  -----  \n",
      " 0   city        48059 non-null  object \n",
      " 1   city_ascii  48057 non-null  object \n",
      " 2   lat         48059 non-null  float64\n",
      " 3   lng         48059 non-null  float64\n",
      " 4   country     48059 non-null  object \n",
      " 5   iso2        48026 non-null  object \n",
      " 6   iso3        48059 non-null  object \n",
      " 7   admin_name  47858 non-null  object \n",
      " 8   capital     15138 non-null  object \n",
      " 9   population  47808 non-null  float64\n",
      " 10  id          48059 non-null  int64  \n",
      "dtypes: float64(3), int64(1), object(7)\n",
      "memory usage: 4.0+ MB\n"
     ]
    }
   ],
   "source": [
    "df = pd.read_csv(\"worldcities.csv\")\n",
    "\n",
    "df.info()"
   ]
  },
  {
   "cell_type": "code",
   "execution_count": 3,
   "id": "8108e81b",
   "metadata": {},
   "outputs": [],
   "source": [
    "df.sort_values(by=['city'], inplace=True)"
   ]
  },
  {
   "cell_type": "code",
   "execution_count": 11,
   "id": "80d43c8e",
   "metadata": {},
   "outputs": [
    {
     "data": {
      "text/html": [
       "<div>\n",
       "<style scoped>\n",
       "    .dataframe tbody tr th:only-of-type {\n",
       "        vertical-align: middle;\n",
       "    }\n",
       "\n",
       "    .dataframe tbody tr th {\n",
       "        vertical-align: top;\n",
       "    }\n",
       "\n",
       "    .dataframe thead th {\n",
       "        text-align: right;\n",
       "    }\n",
       "</style>\n",
       "<table border=\"1\" class=\"dataframe\">\n",
       "  <thead>\n",
       "    <tr style=\"text-align: right;\">\n",
       "      <th></th>\n",
       "      <th>city</th>\n",
       "      <th>region</th>\n",
       "      <th>country</th>\n",
       "    </tr>\n",
       "  </thead>\n",
       "  <tbody>\n",
       "    <tr>\n",
       "      <th>2694</th>\n",
       "      <td>A Coruna</td>\n",
       "      <td>Galicia</td>\n",
       "      <td>Spain</td>\n",
       "    </tr>\n",
       "    <tr>\n",
       "      <th>10611</th>\n",
       "      <td>A Yun Pa</td>\n",
       "      <td>Gia Lai</td>\n",
       "      <td>Vietnam</td>\n",
       "    </tr>\n",
       "    <tr>\n",
       "      <th>29787</th>\n",
       "      <td>Aabenraa</td>\n",
       "      <td>Syddanmark</td>\n",
       "      <td>Denmark</td>\n",
       "    </tr>\n",
       "    <tr>\n",
       "      <th>2648</th>\n",
       "      <td>Aachen</td>\n",
       "      <td>North Rhine-Westphalia</td>\n",
       "      <td>Germany</td>\n",
       "    </tr>\n",
       "    <tr>\n",
       "      <th>44584</th>\n",
       "      <td>Aadorf</td>\n",
       "      <td>Thurgau</td>\n",
       "      <td>Switzerland</td>\n",
       "    </tr>\n",
       "  </tbody>\n",
       "</table>\n",
       "</div>"
      ],
      "text/plain": [
       "           city                  region      country\n",
       "2694   A Coruna                 Galicia        Spain\n",
       "10611  A Yun Pa                 Gia Lai      Vietnam\n",
       "29787  Aabenraa              Syddanmark      Denmark\n",
       "2648     Aachen  North Rhine-Westphalia      Germany\n",
       "44584    Aadorf                 Thurgau  Switzerland"
      ]
     },
     "execution_count": 11,
     "metadata": {},
     "output_type": "execute_result"
    }
   ],
   "source": [
    "df_export = df.loc[:, [\"city_ascii\", \"admin_name\", \"country\"]]\n",
    "df_export.rename(columns={\"city_ascii\":\"city\", \"admin_name\": \"region\"}, inplace=True)\n",
    "df_export.head()"
   ]
  },
  {
   "cell_type": "code",
   "execution_count": 12,
   "id": "4ddf8c79",
   "metadata": {},
   "outputs": [],
   "source": [
    "df_export.to_json(\"cities.json\", orient=\"records\")"
   ]
  },
  {
   "cell_type": "code",
   "execution_count": null,
   "id": "f8c5839c",
   "metadata": {},
   "outputs": [],
   "source": []
  }
 ],
 "metadata": {
  "kernelspec": {
   "display_name": "base",
   "language": "python",
   "name": "python3"
  },
  "language_info": {
   "codemirror_mode": {
    "name": "ipython",
    "version": 3
   },
   "file_extension": ".py",
   "mimetype": "text/x-python",
   "name": "python",
   "nbconvert_exporter": "python",
   "pygments_lexer": "ipython3",
   "version": "3.12.7"
  }
 },
 "nbformat": 4,
 "nbformat_minor": 5
}
